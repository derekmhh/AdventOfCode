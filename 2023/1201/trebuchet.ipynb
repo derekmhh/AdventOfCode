{
 "cells": [
  {
   "cell_type": "code",
   "execution_count": 1,
   "metadata": {},
   "outputs": [],
   "source": [
    "import re\n",
    "from typing import Dict"
   ]
  },
  {
   "cell_type": "markdown",
   "metadata": {},
   "source": [
    "## Part 1"
   ]
  },
  {
   "cell_type": "code",
   "execution_count": 2,
   "metadata": {},
   "outputs": [
    {
     "name": "stdout",
     "output_type": "stream",
     "text": [
      "Calibration sum: 53334\n"
     ]
    }
   ],
   "source": [
    "digit_re = re.compile(r\"\\d\")\n",
    "def calibrate(line: str) -> int:\n",
    "    digit_l = digit_re.findall(line)\n",
    "    return int(digit_l[0] + digit_l[-1])\n",
    "\n",
    "with open(\"example1.txt\", \"r\") as fp:\n",
    "    assert sum(calibrate(line) for line in fp.readlines() if len(line.strip())) == 142\n",
    "with open(\"input.txt\", \"r\") as fp:\n",
    "    print(f\"Calibration sum: {sum(calibrate(line) for line in fp.readlines() if len(line.strip()))}\")"
   ]
  },
  {
   "cell_type": "markdown",
   "metadata": {},
   "source": [
    "## Part 2"
   ]
  },
  {
   "cell_type": "code",
   "execution_count": 3,
   "metadata": {},
   "outputs": [
    {
     "name": "stdout",
     "output_type": "stream",
     "text": [
      "Calibration sum: 52834\n"
     ]
    }
   ],
   "source": [
    "digit_dict: Dict[str, str] = {\n",
    "    \"one\": \"1\",\n",
    "    \"two\": \"2\",\n",
    "    \"three\": \"3\",\n",
    "    \"four\": \"4\",\n",
    "    \"five\": \"5\",\n",
    "    \"six\": \"6\",\n",
    "    \"seven\": \"7\",\n",
    "    \"eight\": \"8\",\n",
    "    \"nine\": \"9\",\n",
    "}\n",
    "normalize_re = re.compile(f\"{'|'.join(digit_dict.keys())}\")\n",
    "def digit_repl(matchobj: re.Match) -> str:\n",
    "    return digit_dict[matchobj.group(0)]\n",
    "def normalize_line(line: str) -> str:\n",
    "    return normalize_re.sub(digit_repl, line)\n",
    "\n",
    "with open(\"example2.txt\", \"r\") as fp:\n",
    "    assert sum(calibrate(normalize_line(line)) for line in fp.readlines() if len(line.strip())) == 281\n",
    "with open(\"input.txt\", \"r\") as fp:\n",
    "    print(f\"Calibration sum: {sum(calibrate(normalize_line(line)) for line in fp.readlines() if len(line.strip()))}\")"
   ]
  }
 ],
 "metadata": {
  "kernelspec": {
   "display_name": "venv",
   "language": "python",
   "name": "python3"
  },
  "language_info": {
   "codemirror_mode": {
    "name": "ipython",
    "version": 3
   },
   "file_extension": ".py",
   "mimetype": "text/x-python",
   "name": "python",
   "nbconvert_exporter": "python",
   "pygments_lexer": "ipython3",
   "version": "3.10.12"
  }
 },
 "nbformat": 4,
 "nbformat_minor": 2
}
