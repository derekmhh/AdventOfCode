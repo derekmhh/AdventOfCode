{
 "cells": [
  {
   "cell_type": "code",
   "execution_count": 1,
   "metadata": {},
   "outputs": [],
   "source": [
    "from collections import Counter"
   ]
  },
  {
   "cell_type": "markdown",
   "metadata": {},
   "source": [
    "## Part 1"
   ]
  },
  {
   "cell_type": "code",
   "execution_count": 2,
   "metadata": {},
   "outputs": [
    {
     "name": "stdout",
     "output_type": "stream",
     "text": [
      "Total points: 21558\n"
     ]
    }
   ],
   "source": [
    "def line_match(line: str) -> int:\n",
    "    (ref_l, num_l) = tuple(line.split(\":\")[-1].split(\"|\", maxsplit=1))\n",
    "    ref_set = set(ref_l.split())\n",
    "    return len([num for num in num_l.split() if num in ref_set])\n",
    "\n",
    "with open(\"example.txt\", \"r\") as fp:\n",
    "    lines_l = [line.strip() for line in fp.readlines() if len(line.strip())]\n",
    "    assert sum(int(pow(2, line_match(line)-1)) for line in lines_l) == 13\n",
    "\n",
    "with open(\"input.txt\", \"r\") as fp:\n",
    "    lines_l = [line.strip() for line in fp.readlines() if len(line.strip())]\n",
    "    print(f\"Total points: {sum(int(pow(2, line_match(line)-1)) for line in lines_l)}\")"
   ]
  },
  {
   "cell_type": "markdown",
   "metadata": {},
   "source": [
    "## Part 2"
   ]
  },
  {
   "cell_type": "code",
   "execution_count": 3,
   "metadata": {},
   "outputs": [
    {
     "name": "stdout",
     "output_type": "stream",
     "text": [
      "Total cards: 10425665\n"
     ]
    }
   ],
   "source": [
    "with open(\"example.txt\", \"r\") as fp:\n",
    "    lines_l = [line.strip() for line in fp.readlines() if len(line.strip())]\n",
    "    cards = Counter()\n",
    "    for id, line in enumerate(lines_l):\n",
    "        cards.update([id])\n",
    "        cards.update({i+1: cards[id] for i in range(id, id+line_match(line))})\n",
    "    assert cards.total() == 30\n",
    "\n",
    "with open(\"input.txt\", \"r\") as fp:\n",
    "    lines_l = [line.strip() for line in fp.readlines() if len(line.strip())]\n",
    "    cards = Counter()\n",
    "    for id, line in enumerate(lines_l):\n",
    "        cards.update([id])\n",
    "        cards.update({i+1: cards[id] for i in range(id, id+line_match(line))})\n",
    "    print(f\"Total cards: {cards.total()}\")"
   ]
  }
 ],
 "metadata": {
  "kernelspec": {
   "display_name": "venv",
   "language": "python",
   "name": "python3"
  },
  "language_info": {
   "codemirror_mode": {
    "name": "ipython",
    "version": 3
   },
   "file_extension": ".py",
   "mimetype": "text/x-python",
   "name": "python",
   "nbconvert_exporter": "python",
   "pygments_lexer": "ipython3",
   "version": "3.10.12"
  }
 },
 "nbformat": 4,
 "nbformat_minor": 2
}
