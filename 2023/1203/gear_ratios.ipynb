{
 "cells": [
  {
   "cell_type": "code",
   "execution_count": 1,
   "metadata": {},
   "outputs": [],
   "source": [
    "import operator\n",
    "import re\n",
    "from functools import reduce\n",
    "from typing import List"
   ]
  },
  {
   "cell_type": "markdown",
   "metadata": {},
   "source": [
    "## Part 1"
   ]
  },
  {
   "cell_type": "code",
   "execution_count": 2,
   "metadata": {},
   "outputs": [
    {
     "name": "stdout",
     "output_type": "stream",
     "text": [
      "Sum of part numbers: 530495\n"
     ]
    }
   ],
   "source": [
    "num_re = re.compile(r\"\\d+\")\n",
    "symbol_re = re.compile(r\"[^a-zA-Z0-9_.]\")\n",
    "\n",
    "def part_check(schematic: List[str], l_id: int, m: re.Match) -> int:\n",
    "    start, end = m.start(), m.end()+1\n",
    "    surr = schematic[l_id-1][start:end+1] + schematic[l_id][start] + schematic[l_id][end] + schematic[l_id+1][start:end+1]\n",
    "    return int(m[0]) if symbol_re.search(surr) is not None else 0\n",
    "\n",
    "with open(\"example.txt\", \"r\") as fp:\n",
    "    lines_l = [line.strip() for line in fp.readlines() if len(line.strip())]\n",
    "    length, width = len(lines_l), len(lines_l[0])\n",
    "    schematic = [\".\"*(width+2)] + [f\".{line}.\" for line in lines_l] + [\".\"*(width+2)]\n",
    "    assert sum(part_check(schematic, l_id, m) for l_id, line in enumerate(lines_l, 1) for m in num_re.finditer(line)) == 4361\n",
    "\n",
    "with open(\"input.txt\", \"r\") as fp:\n",
    "    lines_l = [line.strip() for line in fp.readlines() if len(line.strip())]\n",
    "    length, width = len(lines_l), len(lines_l[0])\n",
    "    schematic = [\".\"*(width+2)] + [f\".{line}.\" for line in lines_l] + [\".\"*(width+2)]\n",
    "    print(f\"Sum of part numbers: {sum(part_check(schematic, l_id, m) for l_id, line in enumerate(lines_l, 1) for m in num_re.finditer(line))}\")\n"
   ]
  },
  {
   "cell_type": "markdown",
   "metadata": {},
   "source": [
    "## Part 2"
   ]
  },
  {
   "cell_type": "code",
   "execution_count": 3,
   "metadata": {},
   "outputs": [
    {
     "name": "stdout",
     "output_type": "stream",
     "text": [
      "Sum of gear ratios: 80253814\n"
     ]
    }
   ],
   "source": [
    "num_re = re.compile(r\"\\d+\")\n",
    "gear_re = re.compile(r\"\\*\")\n",
    "\n",
    "def part_check(m: re.Match, l_id: int, x: int, y: int) -> bool:\n",
    "    start, end = m.start()-1, m.end()\n",
    "    bool_dict = {\n",
    "        y-1: (start <= x <= end),\n",
    "        y: (end == x) or (start == x),\n",
    "        y+1: (start <= x <= end),\n",
    "    }\n",
    "    return bool_dict[l_id]\n",
    "\n",
    "def gear_check(schematic: List[str], x: int, y: int) -> int:\n",
    "    part_l = [int(part_m[0]) for j in [y-1, y, y+1] for part_m in num_re.finditer(schematic[j]) if part_check(part_m, j, x, y)]\n",
    "    return reduce(operator.mul, part_l, 1) if (len(part_l) == 2) else 0\n",
    "\n",
    "with open(\"example.txt\", \"r\") as fp:\n",
    "    lines_l = [line.strip() for line in fp.readlines() if len(line.strip())]\n",
    "    length, width = len(lines_l), len(lines_l[0])\n",
    "    schematic = [\".\"*(width+2)] + [f\".{line}.\" for line in lines_l] + [\".\"*(width+2)]\n",
    "    assert sum(gear_check(schematic, m.end(), l_id) for l_id, line in enumerate(lines_l, 1) for m in gear_re.finditer(line)) == 467835\n",
    "\n",
    "with open(\"input.txt\", \"r\") as fp:\n",
    "    lines_l = [line.strip() for line in fp.readlines() if len(line.strip())]\n",
    "    length, width = len(lines_l), len(lines_l[0])\n",
    "    schematic = [\".\"*(width+2)] + [f\".{line}.\" for line in lines_l] + [\".\"*(width+2)]\n",
    "    print(f\"Sum of gear ratios: {sum(gear_check(schematic, m.end(), l_id) for l_id, line in enumerate(lines_l, 1) for m in gear_re.finditer(line))}\")"
   ]
  }
 ],
 "metadata": {
  "kernelspec": {
   "display_name": "venv",
   "language": "python",
   "name": "python3"
  },
  "language_info": {
   "codemirror_mode": {
    "name": "ipython",
    "version": 3
   },
   "file_extension": ".py",
   "mimetype": "text/x-python",
   "name": "python",
   "nbconvert_exporter": "python",
   "pygments_lexer": "ipython3",
   "version": "3.10.12"
  }
 },
 "nbformat": 4,
 "nbformat_minor": 2
}
