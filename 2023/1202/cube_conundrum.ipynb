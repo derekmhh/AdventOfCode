{
 "cells": [
  {
   "cell_type": "code",
   "execution_count": 1,
   "metadata": {},
   "outputs": [],
   "source": [
    "import operator\n",
    "import re\n",
    "from collections import Counter\n",
    "from functools import reduce"
   ]
  },
  {
   "cell_type": "markdown",
   "metadata": {},
   "source": [
    "## Part 1"
   ]
  },
  {
   "cell_type": "code",
   "execution_count": 2,
   "metadata": {},
   "outputs": [
    {
     "name": "stdout",
     "output_type": "stream",
     "text": [
      "Sum of valid game IDs: 2632\n"
     ]
    }
   ],
   "source": [
    "condition_dict: Counter[str] = Counter({\n",
    "    \"red\": 12,\n",
    "    \"green\": 13,\n",
    "    \"blue\": 14,\n",
    "})\n",
    "\n",
    "round_re = re.compile(fr\"(?P<v>\\d+)\\s+(?P<k>{'|'.join(condition_dict.keys())})\")\n",
    "\n",
    "def check_game(line: str) -> bool:\n",
    "    return all(Counter({match.group(\"k\"): int(match.group(\"v\")) for match in round_re.finditer(round)}) <= condition_dict for round in line.split(\";\"))\n",
    "\n",
    "def parse_game(line: str) -> int:\n",
    "    game = line.split(\":\", maxsplit=1)\n",
    "    return int(game[0].split()[-1]) if check_game(game[-1]) else 0\n",
    "\n",
    "with open(\"example.txt\", \"r\") as fp:\n",
    "    assert sum(parse_game(line) for line in fp.readlines()) == 8\n",
    "\n",
    "with open(\"input.txt\", \"r\") as fp:\n",
    "    print(f\"Sum of valid game IDs: {sum(parse_game(line) for line in fp.readlines())}\") "
   ]
  },
  {
   "cell_type": "markdown",
   "metadata": {},
   "source": [
    "## Part 2"
   ]
  },
  {
   "cell_type": "code",
   "execution_count": 3,
   "metadata": {},
   "outputs": [
    {
     "name": "stdout",
     "output_type": "stream",
     "text": [
      "Sum of set power: 69629\n"
     ]
    }
   ],
   "source": [
    "def set_power(line: str) -> int:\n",
    "    return reduce(operator.mul, reduce(operator.or_, [Counter({match.group(\"k\"): int(match.group(\"v\")) for match in round_re.finditer(round)}) for round in line.split(\";\")], Counter()).values(), 1)\n",
    "\n",
    "with open(\"example.txt\", \"r\") as fp:\n",
    "    assert sum(set_power(line.split(\":\")[-1]) for line in fp.readlines()) == 2286\n",
    "\n",
    "with open(\"input.txt\", \"r\") as fp:\n",
    "    print(f\"Sum of set power: {sum(set_power(line.split(':')[-1]) for line in fp.readlines())}\") "
   ]
  }
 ],
 "metadata": {
  "kernelspec": {
   "display_name": "venv",
   "language": "python",
   "name": "python3"
  },
  "language_info": {
   "codemirror_mode": {
    "name": "ipython",
    "version": 3
   },
   "file_extension": ".py",
   "mimetype": "text/x-python",
   "name": "python",
   "nbconvert_exporter": "python",
   "pygments_lexer": "ipython3",
   "version": "3.10.12"
  }
 },
 "nbformat": 4,
 "nbformat_minor": 2
}
